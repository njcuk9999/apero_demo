{
 "cells": [
  {
   "cell_type": "markdown",
   "source": [
    "# APERO Demos\n",
    "\n",
    "The aim of these demos is to walk you through some of the key steps in the\n",
    "data reduction using APERO.\n",
    "\n",
    "## Prerequisites for exercises\n",
    "\n",
    "- Python 3.9  (e.g. via [conda](https://docs.conda.io/en/latest/miniconda.html))\n",
    "    ```\n",
    "    conda create --name=apero-demo python=3.9\n",
    "    conda activate apero-demo\n",
    "    pip install -r requirements.txt\n",
    "    ```\n",
    "\n",
    "\n",
    "- DS9 ([download](https://sites.google.com/cfa.harvard.edu/saoimageds9))\n",
    "\n",
    "\n",
    "- dfits and fitsort\n",
    "  - python implementation: [download](https://astrom-tom.github.io/dfitspy/build/html/installation.html)\n",
    "  - C implmentation: [download](https://github.com/granttremblay/eso_fits_tools)\n",
    "\n",
    "\n",
    "- Download the file bundle: [download](https://www.astro.umontreal.ca/~artigau/apero_demo/apero_nirps_demo.tar)\n",
    "\n",
    "\n",
    "## Exercise 1: Cube to RAMP: Correlated double sampling (CDS)\n",
    "\n",
    "- Step 1: Find the ramp and the cube for Proxima (HE)   HIERARCH ESO DPR TYPE = OBJECT,SKY  using dfits and fitsort (or python)\n",
    "- Step 2: Load the cube in ds9\n",
    "- Step 3: In DS9 play with the cube scaling (linear, log, histogram, min max, zscale etc)\n",
    "- Step 4: In DS9 “Animate” the cube to see photons accumulating\n",
    "- Step 5: In python create CDS “last minus first frame” from the cube. Express the resulting image in ADU/s\n",
    "- Step 6: In DS9 compare to provided ramp image for Proxima\n"
   ],
   "metadata": {
    "collapsed": false
   }
  },
  {
   "cell_type": "code",
   "execution_count": 16,
   "outputs": [],
   "source": [
    "import matplotlib.pyplot as plt\n",
    "import numpy as np\n",
    "from astropy.io import fits"
   ],
   "metadata": {
    "collapsed": false
   }
  },
  {
   "cell_type": "code",
   "execution_count": 17,
   "outputs": [],
   "source": [
    "# notebook only\n",
    "%matplotlib inline"
   ],
   "metadata": {
    "collapsed": false
   }
  },
  {
   "cell_type": "code",
   "execution_count": 18,
   "outputs": [],
   "source": [
    "# file containing a cube of NIRPS data\n",
    "cube_file = 'NIRPS_2023-01-20T08_42_08_942.fits'\n",
    "\n",
    "# file containing the equivalent ramp image\n",
    "ramp_file = 'NIRPS_2023-01-20T08_42_08_941.fits'"
   ],
   "metadata": {
    "collapsed": false
   }
  },
  {
   "cell_type": "code",
   "execution_count": 19,
   "outputs": [],
   "source": [
    "# read the ramp file\n",
    "slope = fits.getdata(ramp_file)\n",
    "# read the cube of individual readouts\n",
    "cube = fits.getdata(cube_file)\n",
    "# read the header\n",
    "header = fits.getheader(cube_file)"
   ],
   "metadata": {
    "collapsed": false
   }
  },
  {
   "cell_type": "code",
   "execution_count": 20,
   "outputs": [],
   "source": [
    "# we avoid byte wrapping for value below 0 in the CDS difference. Comment\n",
    "# this line to see what goes wrong if yon don't do this!\n",
    "cube = np.array(cube, dtype=float)"
   ],
   "metadata": {
    "collapsed": false
   }
  },
  {
   "cell_type": "code",
   "execution_count": 21,
   "outputs": [
    {
     "name": "stdout",
     "output_type": "stream",
     "text": [
      "Shape of the cube (37, 4096, 4096)\n"
     ]
    }
   ],
   "source": [
    "# duration the integration\n",
    "inttime = header['HIERARCH ESO DET UIT']\n",
    "print('Shape of the cube {}'.format(cube.shape))\n",
    "# effective number of reads in difference\n",
    "nreads_diff = cube.shape[0] - 1"
   ],
   "metadata": {
    "collapsed": false
   }
  },
  {
   "cell_type": "code",
   "execution_count": 22,
   "outputs": [],
   "source": [
    "# constructing a correlated double sampling\n",
    "# expressing as a rate of ADUs per second rather than ADUs\n",
    "cds = (cube[-1] - cube[0]) / (inttime * nreads_diff)"
   ],
   "metadata": {
    "collapsed": false
   }
  },
  {
   "cell_type": "code",
   "execution_count": 23,
   "outputs": [
    {
     "data": {
      "text/plain": "<Figure size 640x480 with 1 Axes>",
      "image/png": "[encoded data removed]"
     },
     "metadata": {},
     "output_type": "display_data"
    }
   ],
   "source": [
    "# plotting a random pixel growth\n",
    "ypix, xpix = 2000, 2000  # pixel we want to look at\n",
    "time = np.arange(cube.shape[0]) * inttime\n",
    "plt.plot(time, cube[:, ypix, xpix], 'go')\n",
    "plt.xlabel('Time [s]')\n",
    "plt.ylabel('ADUs')\n",
    "plt.title('Accumulation of flux in pixel {},{}'.format(ypix, xpix))\n",
    "plt.show()\n",
    "plt.close()"
   ],
   "metadata": {
    "collapsed": false
   }
  },
  {
   "cell_type": "code",
   "execution_count": 24,
   "outputs": [],
   "source": [
    "# in sample area, we find the RMS\n",
    "rms_cds = np.nanstd(cds[10:20, 10:20])\n",
    "rms_sloe = np.nanstd(slope[10:20, 10:20])\n"
   ],
   "metadata": {
    "collapsed": false
   }
  },
  {
   "cell_type": "code",
   "execution_count": 25,
   "outputs": [
    {
     "name": "stdout",
     "output_type": "stream",
     "text": [
      "RMS of constructed CDS image : 0.1149 ADU/s\n",
      "RMS of provided slope image : 0.0984 ADU/s\n"
     ]
    }
   ],
   "source": [
    "# print RMS values\n",
    "print('RMS of constructed CDS image : {:.4f} ADU/s'.format(rms_cds))\n",
    "print('RMS of provided slope image : {:.4f} ADU/s'.format(rms_sloe))"
   ],
   "metadata": {
    "collapsed": false
   }
  },
  {
   "cell_type": "code",
   "execution_count": 26,
   "outputs": [],
   "source": [
    "# save cds to file\n",
    "fits.writeto('cds.fits', cds, header, overwrite=True)"
   ],
   "metadata": {
    "collapsed": false
   }
  }
 ],
 "metadata": {
  "kernelspec": {
   "display_name": "Python 3",
   "language": "python",
   "name": "python3"
  },
  "language_info": {
   "codemirror_mode": {
    "name": "ipython",
    "version": 2
   },
   "file_extension": ".py",
   "mimetype": "text/x-python",
   "name": "python",
   "nbconvert_exporter": "python",
   "pygments_lexer": "ipython2",
   "version": "2.7.6"
  }
 },
 "nbformat": 4,
 "nbformat_minor": 0
}
